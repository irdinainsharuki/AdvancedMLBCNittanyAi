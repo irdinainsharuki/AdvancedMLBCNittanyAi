{
  "metadata": {
    "kernelspec": {
      "language": "python",
      "display_name": "Python 3",
      "name": "python3"
    },
    "language_info": {
      "name": "python",
      "version": "3.10.12",
      "mimetype": "text/x-python",
      "codemirror_mode": {
        "name": "ipython",
        "version": 3
      },
      "pygments_lexer": "ipython3",
      "nbconvert_exporter": "python",
      "file_extension": ".py"
    },
    "kaggle": {
      "accelerator": "none",
      "dataSources": [],
      "dockerImageVersionId": 30839,
      "isInternetEnabled": true,
      "language": "python",
      "sourceType": "notebook",
      "isGpuEnabled": false
    },
    "colab": {
      "provenance": [],
      "include_colab_link": true
    }
  },
  "nbformat_minor": 0,
  "nbformat": 4,
  "cells": [
    {
      "cell_type": "markdown",
      "metadata": {
        "id": "view-in-github",
        "colab_type": "text"
      },
      "source": [
        "<a href=\"https://colab.research.google.com/github/irdinainsharuki/AdvancedMLBCNittanyAi/blob/main/pneumonia_template.ipynb\" target=\"_parent\"><img src=\"https://colab.research.google.com/assets/colab-badge.svg\" alt=\"Open In Colab\"/></a>"
      ]
    },
    {
      "cell_type": "markdown",
      "source": [
        "### 🔍 Objective:\n",
        "This project will **introduce you to CNNs**.\n",
        "\n",
        "### 📌 What You’ll Do:\n",
        "1. Define suitable transforms/augmentations for your `train` and `test` images.\n",
        "2. Pass these images into PyTorch `DataLoaders` for batch processing.\n",
        "3. Implement `CNN` class architecture for pneumonia image classification.\n",
        "4. Train and validate your model.\n",
        "\n",
        "💡 **PLEASE PLEASE PLEASE look things up!!! This is YOUR learning experience.**\n",
        "\n",
        "---"
      ],
      "metadata": {
        "id": "foT8pth--QfY"
      }
    },
    {
      "cell_type": "code",
      "source": [
        "import torch\n",
        "import kagglehub\n",
        "import torch.nn as nn\n",
        "\n",
        "path = kagglehub.dataset_download(\"paultimothymooney/chest-xray-pneumonia\")\n",
        "\n",
        "train_path = f'{path}/chest_xray/train/'\n",
        "test_path = f'{path}/chest_xray/test/'\n"
      ],
      "metadata": {
        "trusted": true,
        "execution": {
          "iopub.status.busy": "2025-01-30T23:24:55.964380Z",
          "iopub.execute_input": "2025-01-30T23:24:55.964653Z",
          "iopub.status.idle": "2025-01-30T23:24:59.878536Z",
          "shell.execute_reply.started": "2025-01-30T23:24:55.964628Z",
          "shell.execute_reply": "2025-01-30T23:24:59.877445Z"
        },
        "id": "trKjIVza-Qfa"
      },
      "outputs": [],
      "execution_count": 18
    },
    {
      "cell_type": "markdown",
      "source": [
        "#### 📌 ***TASK 1 - DATA PREPROCESSING***\n",
        "\n",
        "Define image augmentations in the cell below using two variables:  \n",
        "\n",
        "- **`transform_train`**: Stores transforms for training images. You can include any augmentations you prefer.  \n",
        "- **`transform_test`**: Stores transforms for your test images. As a best practice, limit these transformations to only the essential ones from `transform_train`.\n",
        "\n",
        "Lastly, be sure to convert all images to [tensors](https://www.perplexity.ai/search/i-m-a-student-at-naiss-mlb-and-_EL_nBO9TS694cbTEl5M.A) via the `transforms.ToTensor()` transform. Don't know transforms? [Click here](https://pytorch.org/vision/stable/transforms.html)."
      ],
      "metadata": {
        "id": "sCcUi9kd-Qfc"
      }
    },
    {
      "cell_type": "code",
      "source": [
        "from torchvision import transforms\n",
        "# Define transforms for training and testing datasets\n",
        "transform_train = transforms.Compose([\n",
        "    transforms.Resize((150, 150)),\n",
        "    transforms.RandomRotation(10),\n",
        "    transforms.RandomHorizontalFlip(),\n",
        "    transforms.ToTensor(),\n",
        "])\n",
        "\n",
        "transform_test = transforms.Compose([\n",
        "    transforms.Resize((150, 150)),\n",
        "    transforms.ToTensor(),\n",
        "])\n",
        "..."
      ],
      "metadata": {
        "trusted": true,
        "id": "jQXXGPKj-Qfc",
        "colab": {
          "base_uri": "https://localhost:8080/"
        },
        "outputId": "13bc1ad7-e0cb-4a43-a94e-78446fb2fff8"
      },
      "outputs": [
        {
          "output_type": "execute_result",
          "data": {
            "text/plain": [
              "Ellipsis"
            ]
          },
          "metadata": {},
          "execution_count": 19
        }
      ],
      "execution_count": 19
    },
    {
      "cell_type": "markdown",
      "source": [
        "Now, we'll pass our images and transforms into a `DataLoader`, which allows us to train our model in batches.\n",
        "Most of the code is done for you, but [click here](https://www.perplexity.ai/search/i-m-a-student-at-naiss-mlb-and-_EL_nBO9TS694cbTEl5M.A) to learn more."
      ],
      "metadata": {
        "id": "JvBZSzQb-Qfc"
      }
    },
    {
      "cell_type": "code",
      "source": [
        "from torchvision.datasets import ImageFolder\n",
        "from torch.utils.data import DataLoader\n",
        "\n",
        "num_batches = 16  # Feel free to change this\n",
        "\n",
        "train_dataset = ImageFolder(root=train_path, transform=transform_train) # Your Transformed train images\n",
        "train_loader = DataLoader(dataset=train_dataset, batch_size=num_batches, shuffle=True)\n",
        "\n",
        "test_dataset = ImageFolder(root=test_path, transform=transform_test) # Your transformed test images\n",
        "test_loader = DataLoader(dataset=test_dataset, batch_size=num_batches, shuffle=True)"
      ],
      "metadata": {
        "trusted": true,
        "id": "xZYhbcgA-Qfc"
      },
      "outputs": [],
      "execution_count": 20
    },
    {
      "cell_type": "markdown",
      "source": [
        "#### 📌 ***TASK 2 - CNN Architecture***\n",
        "\n",
        "This is where you have all the creative freedom in the world. Here are some good questions to ask yourself:\n",
        "\n",
        "- How many [channels](https://www.perplexity.ai/search/i-m-a-student-at-naiss-mlb-wha-49AG77e4Qp2e7EkARdFsTA) should go into the input layer?\n",
        "- What measures can I take to avoid [overfitting](https://www.perplexity.ai/search/i-m-a-student-at-naiss-mlb-wha-YdAbhqQzRZaEq39BEQzA6w)?\n",
        "- What matters to me? (Training Speed / Performance tradeoffs)\n",
        "- **CONVOLUTION. ACTIVATION FUNCTION. POOLING!!!** 📢📢📢\n",
        "\n",
        "Not comfortable with PyTorch? [Here](https://youtu.be/mozBidd58VQ?si=TE2_81TEQko1eDXT). Go and make me the best [CNN](https://www.datacamp.com/tutorial/introduction-to-convolutional-neural-networks-cnns) I've ever seen :)"
      ],
      "metadata": {
        "id": "YJp8AV-E-Qfd"
      }
    },
    {
      "cell_type": "code",
      "source": [
        "import torch\n",
        "import torch.nn as nn\n",
        "\n",
        "# Remember what Pooling does to feature maps!!!\n",
        "image_width = 150\n",
        "image_height = 150\n",
        "\n",
        "class PneumoniaCNN(nn.Module):\n",
        "    def __init__(self):\n",
        "        super(PneumoniaCNN, self).__init__()\n",
        "        # Convolutional layers\n",
        "        self.conv1 = nn.Conv2d(in_channels=3, out_channels=32, kernel_size=3, stride=1, padding=1)\n",
        "        self.conv2 = nn.Conv2d(32, 64, kernel_size=3, stride=1, padding=1)\n",
        "        self.conv3 = nn.Conv2d(64, 128, kernel_size=3, stride=1, padding=1)\n",
        "\n",
        "        # Pooling layer\n",
        "        self.pool = nn.MaxPool2d(kernel_size=2, stride=2, padding=0)\n",
        "\n",
        "        # Fully connected layers\n",
        "        # After three pooling layers, the image dims are reduced by a factor of 8 (150 // 8 = 18)\n",
        "        self.fc1 = nn.Linear(128 * (image_width // 8) * (image_height // 8), 256)\n",
        "        self.fc2 = nn.Linear(256, 1)\n",
        "\n",
        "        # Dropout to avoid overfitting\n",
        "        self.dropout = nn.Dropout(0.5)\n",
        "\n",
        "    def forward(self, x):\n",
        "        x = self.pool(torch.relu(self.conv1(x)))\n",
        "        x = self.pool(torch.relu(self.conv2(x)))\n",
        "        x = self.pool(torch.relu(self.conv3(x)))\n",
        "        x = torch.flatten(x, start_dim=1)\n",
        "        x = torch.relu(self.fc1(x))\n",
        "        x = self.dropout(x)\n",
        "        x = torch.sigmoid(self.fc2(x))\n",
        "        return x\n",
        "\n",
        "# Instantiate the model\n",
        "model = PneumoniaCNN()\n",
        "print(model)\n",
        "..."
      ],
      "metadata": {
        "trusted": true,
        "id": "j3zGSpyz-Qfd",
        "colab": {
          "base_uri": "https://localhost:8080/"
        },
        "outputId": "d73d9356-8b73-4e28-d863-aa91295df3db"
      },
      "outputs": [
        {
          "output_type": "stream",
          "name": "stdout",
          "text": [
            "PneumoniaCNN(\n",
            "  (conv1): Conv2d(3, 32, kernel_size=(3, 3), stride=(1, 1), padding=(1, 1))\n",
            "  (conv2): Conv2d(32, 64, kernel_size=(3, 3), stride=(1, 1), padding=(1, 1))\n",
            "  (conv3): Conv2d(64, 128, kernel_size=(3, 3), stride=(1, 1), padding=(1, 1))\n",
            "  (pool): MaxPool2d(kernel_size=2, stride=2, padding=0, dilation=1, ceil_mode=False)\n",
            "  (fc1): Linear(in_features=41472, out_features=256, bias=True)\n",
            "  (fc2): Linear(in_features=256, out_features=1, bias=True)\n",
            "  (dropout): Dropout(p=0.5, inplace=False)\n",
            ")\n"
          ]
        },
        {
          "output_type": "execute_result",
          "data": {
            "text/plain": [
              "Ellipsis"
            ]
          },
          "metadata": {},
          "execution_count": 21
        }
      ],
      "execution_count": 21
    },
    {
      "cell_type": "markdown",
      "source": [
        "#### 📌 ***TASK 3 - DEFINE TRAIN FUNCTION***  \n",
        "\n",
        "Define `process_forward_phase` and `train` to update model weights with each new [epoch/iteration](https://www.perplexity.ai/search/i-m-a-curious-naiss-mlb-studen-7SJECNYrS1iYxUR032dp7A). Here are the steps:\n",
        "\n",
        "- **Forward pass:** Here, our batch is taken through the network to output a prediction (Normal/Pneumonia)\n",
        "- **Backward pass:** The model goes \"What's our loss? Hmmm... Not quite what I want. This means my `weights` aren't adjusted properly. Let me propagate my `loss` backward in hopes of correcting my weights.\"\n",
        "\n",
        "We use **`f1_score`** as the primary metric and also display **`accuracy`** for comparison. Most steps are outlined for you—just follow the structure provided!"
      ],
      "metadata": {
        "id": "LnG4r6aw-Qfe"
      }
    },
    {
      "cell_type": "code",
      "source": [
        "from tqdm import tqdm # Visualize training progress\n",
        "from sklearn.metrics import f1_score, accuracy_score\n",
        "\n",
        "def process_forward_pass(model, batch, criterion):\n",
        "    \"\"\"\n",
        "    This is a helper function to abstract the \"forward\"\n",
        "    phase of the training loop. This function also returns\n",
        "    the loss, predictions, and labels seen in the batch.\n",
        "    \"\"\"\n",
        "\n",
        "    images, labels = batch\n",
        "    labels = labels.float().unsqueeze(1)  # Convert labels to float and add a dimension for compatibility\n",
        "    outputs = model(images)\n",
        "    loss = criterion(outputs, labels)\n",
        "    preds = (outputs > 0.5).float()  # Threshold predictions at 0.5\n",
        "\n",
        "    return loss, preds, labels\n",
        "\n",
        "def train(model, train_loader, criterion, optimizer, epochs):\n",
        "    model.train() # Set model to training mode\n",
        "\n",
        "    for epoch in range(epochs): # Specify the number of iterations to train for\n",
        "        all_preds, all_labels = [], []\n",
        "\n",
        "        for batch in tqdm(train_loader, desc=f\"Epoch {epoch + 1}/{epochs}\"):\n",
        "            optimizer.zero_grad()\n",
        "            loss, preds, labels = process_forward_pass(model, batch, criterion)\n",
        "\n",
        "            loss.backward()\n",
        "            optimizer.step()\n",
        "            # (backward phase, upd. weights)\n",
        "\n",
        "            all_preds.extend(preds.numpy())   # Store predictions and labels for evaluation\n",
        "            all_labels.extend(labels.numpy())\n",
        "\n",
        "        accuracy = accuracy_score(all_labels, all_preds)\n",
        "        f1 = f1_score(all_labels, all_preds)\n",
        "\n",
        "        print(f\"Acc={accuracy:.2f}%, F1={f1:.4f}\")"
      ],
      "metadata": {
        "trusted": true,
        "execution": {
          "iopub.status.busy": "2025-02-07T14:38:35.587676Z",
          "iopub.execute_input": "2025-02-07T14:38:35.588043Z",
          "iopub.status.idle": "2025-02-07T14:38:36.250754Z",
          "shell.execute_reply.started": "2025-02-07T14:38:35.588017Z",
          "shell.execute_reply": "2025-02-07T14:38:36.249692Z"
        },
        "id": "Pz9OGUy8-Qfe"
      },
      "outputs": [],
      "execution_count": 22
    },
    {
      "cell_type": "markdown",
      "source": [
        "After your model trains, you want to see how well it performs on **unseen data.** Meaning, if this were a live hospital NEEDING your predictions to classify patients with pneumonia, how well would it do?\n",
        "\n",
        "\n",
        "You simply have to run this cell; all the code is implemented for you (Assuming `process_forward_phase` works fine). 😊"
      ],
      "metadata": {
        "id": "Yx9DofPM-Qfe"
      }
    },
    {
      "cell_type": "code",
      "source": [
        "def test(model, test_loader, criterion):\n",
        "    model.eval()\n",
        "    all_preds, all_labels = [], []\n",
        "\n",
        "    with torch.no_grad(): # Disable gradient computation\n",
        "        for batch in test_loader:\n",
        "            loss, preds, labels = process_forward_pass(model, batch, criterion)\n",
        "            all_preds.extend(preds.numpy())\n",
        "            all_labels.extend(labels.numpy())\n",
        "\n",
        "    accuracy = accuracy_score(all_labels, all_preds)\n",
        "    f1 = f1_score(all_labels, all_preds)\n",
        "\n",
        "    print(f\"Final Test Results: Acc={accuracy:.2f}%, F1={f1:.4f}\")"
      ],
      "metadata": {
        "trusted": true,
        "execution": {
          "iopub.status.busy": "2025-02-07T13:46:23.454693Z",
          "iopub.execute_input": "2025-02-07T13:46:23.455211Z",
          "iopub.status.idle": "2025-02-07T13:46:23.464758Z",
          "shell.execute_reply.started": "2025-02-07T13:46:23.455043Z",
          "shell.execute_reply": "2025-02-07T13:46:23.463432Z"
        },
        "id": "luq7_sq--Qff"
      },
      "outputs": [],
      "execution_count": 23
    },
    {
      "cell_type": "markdown",
      "source": [
        "#### 📌***TASK 4 - TRAIN MODEL***\n",
        "\n",
        "We're close!!! We simply need to instantiate the `model`, define a suitable `criterion` (loss), and use an `optimizer` (thing to speed up backpropagation)."
      ],
      "metadata": {
        "id": "Ykt3cX06-Qff"
      }
    },
    {
      "cell_type": "code",
      "source": [
        "import torch.optim as optim\n",
        "\n",
        "criterion = nn.BCELoss()  # Binary Cross-Entropy Loss\n",
        "optimizer = optim.Adam(model.parameters(), lr=0.001, weight_decay=1e-5) # Weight decay is optional. But is it? 🤔\n",
        "\n",
        "train(model, train_loader, criterion, optimizer, epochs=5)"
      ],
      "metadata": {
        "trusted": true,
        "id": "0P1bdWXr-Qff",
        "colab": {
          "base_uri": "https://localhost:8080/"
        },
        "outputId": "264bcb5e-65e1-4cf4-83c3-4e13267e7479"
      },
      "outputs": [
        {
          "metadata": {
            "tags": null
          },
          "name": "stderr",
          "output_type": "stream",
          "text": [
            "Epoch 1/5: 100%|██████████| 326/326 [07:05<00:00,  1.30s/it]\n"
          ]
        },
        {
          "metadata": {
            "tags": null
          },
          "name": "stdout",
          "output_type": "stream",
          "text": [
            "Acc=0.85%, F1=0.9037\n"
          ]
        },
        {
          "metadata": {
            "tags": null
          },
          "name": "stderr",
          "output_type": "stream",
          "text": [
            "Epoch 2/5: 100%|██████████| 326/326 [06:54<00:00,  1.27s/it]\n"
          ]
        },
        {
          "metadata": {
            "tags": null
          },
          "name": "stdout",
          "output_type": "stream",
          "text": [
            "Acc=0.92%, F1=0.9471\n"
          ]
        },
        {
          "metadata": {
            "tags": null
          },
          "name": "stderr",
          "output_type": "stream",
          "text": [
            "Epoch 3/5: 100%|██████████| 326/326 [06:40<00:00,  1.23s/it]\n"
          ]
        },
        {
          "metadata": {
            "tags": null
          },
          "name": "stdout",
          "output_type": "stream",
          "text": [
            "Acc=0.94%, F1=0.9619\n"
          ]
        },
        {
          "output_type": "stream",
          "name": "stderr",
          "text": [
            "Epoch 4/5: 100%|██████████| 326/326 [07:24<00:00,  1.36s/it]\n"
          ]
        },
        {
          "output_type": "stream",
          "name": "stdout",
          "text": [
            "Acc=0.95%, F1=0.9678\n"
          ]
        },
        {
          "output_type": "stream",
          "name": "stderr",
          "text": [
            "Epoch 5/5: 100%|██████████| 326/326 [08:31<00:00,  1.57s/it]"
          ]
        },
        {
          "output_type": "stream",
          "name": "stdout",
          "text": [
            "Acc=0.96%, F1=0.9719\n"
          ]
        },
        {
          "output_type": "stream",
          "name": "stderr",
          "text": [
            "\n"
          ]
        }
      ],
      "execution_count": 24
    },
    {
      "cell_type": "markdown",
      "source": [
        "Last step: evaluate your model's performance. Remember, you get **1,000,000** brownie points 🍫 if you beat Adam's **`f1_score:`0.8549**."
      ],
      "metadata": {
        "id": "XInpf_2o-Qff"
      }
    },
    {
      "cell_type": "code",
      "source": [
        "test(model, test_loader, criterion)"
      ],
      "metadata": {
        "trusted": true,
        "id": "sAeAIFf6-Qfg",
        "colab": {
          "base_uri": "https://localhost:8080/"
        },
        "outputId": "0f76be56-0075-4578-d42d-c8ae085688fa"
      },
      "outputs": [
        {
          "output_type": "stream",
          "name": "stdout",
          "text": [
            "Final Test Results: Acc=0.75%, F1=0.8323\n"
          ]
        }
      ],
      "execution_count": 25
    }
  ]
}